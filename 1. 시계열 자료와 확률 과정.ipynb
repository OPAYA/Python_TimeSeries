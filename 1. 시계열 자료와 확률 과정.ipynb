{
 "cells": [
  {
   "cell_type": "markdown",
   "metadata": {},
   "source": [
    "### 확률과정 "
   ]
  },
  {
   "cell_type": "markdown",
   "metadata": {},
   "source": [
    "**확률 과정(Stocahstic process, Rnadom process)** 은 상관 관계를 가지는 무한개의 확률 변수의 순서열을 말한다.\n",
    "확률 과정에 포함된 확률 변수는 시간 변수 t를 기준으로 정렬한다.\n",
    "\n",
    "$$Y = {..., Y_{-2}, Y_{-1},Y_{0}, Y_{1},...}$$\n",
    "\n",
    "**시계열 자료(Time Series data)** 란 이러한 확률 과정의 표본이다.\n",
    "\n",
    "만약 시간 변수 t를 정수만 사용한다면 **이산 시간 확률 과정(discreate time stochastic process)** 이라고 한다.\n",
    "일반적인 시계열 분석에서는 이산 시간 확률 과정을 다루지만 금융 파생 상품의 가격 결정 이론 등에서는 시간 변수가 임의의 실수가 될 수 있는 연속 시간 확률 과정(contivuous time stochastic process)도 다룬다."
   ]
  },
  {
   "cell_type": "code",
   "execution_count": 29,
   "metadata": {},
   "outputs": [],
   "source": [
    "from matplotlib.patches import ConnectionPatch\n",
    "import matplotlib.pyplot as plt\n",
    "import matplotlib as mpl\n",
    "import numpy as np\n",
    "import scipy as sp"
   ]
  },
  {
   "cell_type": "code",
   "execution_count": 30,
   "metadata": {},
   "outputs": [
    {
     "name": "stdout",
     "output_type": "stream",
     "text": [
      "버전:  3.0.2\n",
      "설치 위치:  C:\\Users\\Juntae\\AppData\\Local\\Continuum\\anaconda3\\lib\\site-packages\\matplotlib\\__init__.py\n",
      "설정 위치:  C:\\Users\\Juntae\\.matplotlib\n",
      "캐시 위치:  C:\\Users\\Juntae\\.matplotlib\n"
     ]
    }
   ],
   "source": [
    "print ('버전: ', mpl.__version__)\n",
    "print ('설치 위치: ', mpl.__file__)\n",
    "print ('설정 위치: ', mpl.get_configdir())\n",
    "print ('캐시 위치: ', mpl.get_cachedir())"
   ]
  },
  {
   "cell_type": "code",
   "execution_count": 22,
   "metadata": {},
   "outputs": [],
   "source": [
    "t = np.arange(10)\n",
    "np.random.seed(10)\n",
    "y1 = np.insert(np.cumsum(sp.stats.norm.rvs(size=9)), 0, 0)\n",
    "y2 = np.insert(np.cumsum(sp.stats.norm.rvs(size=9)), 0, 0)\n",
    "y3 = np.insert(np.cumsum(sp.stats.norm.rvs(size=9)), 0, 0)\n",
    "y4 = np.insert(np.cumsum(sp.stats.norm.rvs(size=9)), 0, 0)"
   ]
  },
  {
   "cell_type": "code",
   "execution_count": 53,
   "metadata": {},
   "outputs": [
    {
     "data": {
      "text/plain": [
       "[]"
      ]
     },
     "execution_count": 53,
     "metadata": {},
     "output_type": "execute_result"
    },
    {
     "data": {
      "image/png": "[encoded data removed]",
      "text/plain": [
       "<Figure size 432x288 with 4 Axes>"
      ]
     },
     "metadata": {
      "needs_background": "light"
     },
     "output_type": "display_data"
    }
   ],
   "source": [
    "ax1 = plt.subplot(4, 1, 1)\n",
    "ax1.plot(t, y1, '-o')\n",
    "ax1.set_xticklabels([])\n",
    "ax1.set_yticklabels([])\n",
    "ax1.set_ylim(-9, 9)\n",
    "ax1.set_zorder(2)\n",
    "ax1.set_ylabel(\"Specimen 1\").set_rotation(0)\n",
    "ax1.yaxis.set_tick_params(pad=30)\n",
    "\n",
    "plt.title(\"Specimen of Probability Process\")\n",
    "\n",
    "ax2 = plt.subplot(4, 1, 2)\n",
    "ax2.plot(t, y2, '-o')\n",
    "ax2.set_xticklabels([])\n",
    "ax2.set_yticklabels([])\n",
    "ax2.set_ylim(-9, 9)\n",
    "ax2.set_zorder(1)\n",
    "ax2.set_ylabel(\"Specimen 2\").set_rotation(0)\n",
    "ax2.yaxis.set_tick_params(pad=30)\n",
    "\n",
    "ax3 = plt.subplot(4, 1, 3)\n",
    "ax3.plot(t, y3, '-o')\n",
    "ax3.set_xticklabels([])\n",
    "ax3.set_yticklabels([])\n",
    "ax3.set_ylim(-9, 9)\n",
    "ax3.set_zorder(1)\n",
    "ax3.set_ylabel(\"Specimen 3\").set_rotation(0)\n",
    "ax3.yaxis.set_tick_params(pad=30)\n",
    "\n",
    "ax4 = plt.subplot(4, 1, 4)\n",
    "ax4.plot(t, y4, '-o')\n",
    "ax4.set_xticklabels([])\n",
    "ax4.set_yticklabels([])\n",
    "ax4.set_ylim(-9, 9)\n",
    "ax4.set_zorder(1)\n",
    "ax4.set_ylabel(\"Specimen 4\").set_rotation(0)\n",
    "ax4.yaxis.set_tick_params(pad=30)\n",
    "ax4.annotate('$Y_6$', xy=(5.92, -19), xycoords='data', annotation_clip = False)\n",
    "\n",
    "con = ConnectionPatch(xyA=(6, 9), xyB=(6, -9), ls='--', lw=2, color='gray',\n",
    "                      coordsA='data', coordsB='data', axesA=ax1, axesB=ax4)\n",
    "\n",
    "ax1.add_artist(con)\n",
    "\n",
    "plt.plot()"
   ]
  },
  {
   "cell_type": "markdown",
   "metadata": {},
   "source": [
    "예를 들어 특정 회사와 주가를 시계열 자료를 보고 이 시계열 자룍 확률 과정이라고 가정하면 우리가 보는 주가 경로 전체가 확률 과정에서 나올 수 있는 하나의 표본일 뿐이다. 즉, 우리가 살고 있는 이 세계 자체가 확률 과정의 **하나의 표본** 이다.\n",
    "\n",
    "이렇게 본다면 아직 실현되지 않은 미래의 주가는 어떻게 생각 할 수 있을까? 확률 과정의 표본은 음의 무한대부터 양의 무한대까지 모든 시간에 대한 자료를 가지고 있으므로 미래의 주가도 이미 실현되어 잇는 것으로 생각하면 이해하기 쉽낟. 이러한 관점으로 보면 미래는 전체 시계열 자료 중 현재 시점에서 아직 관찰이 불가능한 부분일 뿐이다.\n",
    "\n",
    "이러한 관점은 연속시간 확률과정을 분석할 때 중요한 역할을 한다 .그러나 이산시간 확률과정의 경우에는 단순히 **서로 상관관계를 가지는 복수개의 확률변수** 로 보아도 큰 문제가 없다."
   ]
  },
  {
   "cell_type": "markdown",
   "metadata": {},
   "source": [
    "## 앙상블 평균\n",
    "\n",
    "이러한 관점에서 확률 과정 $Y$의 특정 시간에 대한 기대값 $E[Y_t]$은 어떻게 생성된 복수의 시계열 자료 표본에서 특정 시간 $t$의 값만을 평균한 것으로 볼 수 있다. 이를 시계열의 **앙상블 평균(ensemble averate)** 라고 한다.\n",
    "\n",
    "재현이 가능한 확률 과정, 예를 들어 반복하여 실행할 수 있는 실험의 데이터와 같은 경우에는 앙상블 평균의 추정값을 계산할 수 있다. 하지만 재현이 불가능한 확률 과정에 대해서는 틍정시간의 값에 대한 앙상블 평균의 추정값은 현실적으로 얻을 수 없다. 이 경우 우리가 살고 있는 세계는 **하나의 표본만을 가진 세계**이기 때문이다.\n",
    "\n",
    "앙상블 평균에 대한 춪어값을 얻기 위해서는 확률 과정이 정상 과정(stationay process)이며 에르고딕 과정(ergodic process)이라는 가정이 있어야 한다. 정상 과정과 에르고딕 과정에 대해서는 추후 설명한다."
   ]
  },
  {
   "cell_type": "markdown",
   "metadata": {},
   "source": [
    "## 확률 과정의 기댓값, 자기공분산, 자기상관계수\n",
    "\n",
    "확률 과정의 특성은 개별 시간 변수에 대한 확률 변수들의 결합 확률 밀도 함수를 사용하여 정의한다.\n",
    "\n",
    "**확률 과정의 기대값**은 $\\mu_t$로 표기하며 시간 변수 t에 대한 확률 변수 $Y_t$의 기댓값이다.\n",
    "\n",
    "$$\\mu_t = E[Y_t]$$\n",
    "\n",
    "**auto-covariance**는 $\\gamma_{t, s}$로 표기하며 시간 변수 t에 대한 확률 변수 $Y_t$와 시간 변수 s에 대한 확률 변수 $Y_s$의 공분산이다.\n",
    "\n",
    "$$\\gamma_{t, s} = Cov[Y_t, Y_s] = E[(Y_t - E[Y_t])(Y_s - E[Y_s])]$$\n",
    "\n",
    "**auto-correltation***은 $\\rho_{t, s}$로 표기하며 시간 변수 t에 대한 확률 변수 $Y_t$와 시간 변수 s에 대한 확률 변수 $Y_s$의 상관계수이다.\n",
    "\n",
    "$$\\rho_{t, s}=Corr[Y_t, Y_s] = {Cov[Y_t, Y_s]\\over \\sqrt{Var[Y_t][Y_s]}} = {\\gamma_{t, s} \\over \\sqrt{\\gamma_t \\gamma_s}}$$\n",
    "\n",
    "위의 정의에서 다음과 같은 성질을 알 수 있다.\n",
    "\n",
    "$$\\gamma_{t, t} = Var[Y_t]$$\n",
    "$$\\gamma_{t, s} = \\gamma_{s, t}$$\n",
    "$$|\\gamma_{t, s}| \\leq \\sqrt{\\gamma_{t,t}\\gamma_{s,s}} $$\n",
    "$$\\rho_{t, t} = 1$$\n",
    "$$\\rho_{t, s} = \\rho_{s, t}$$\n",
    "$$|\\rho_{t, x}| \\leq 1$$"
   ]
  }
 ],
 "metadata": {
  "kernelspec": {
   "display_name": "Python 3",
   "language": "python",
   "name": "python3"
  },
  "language_info": {
   "codemirror_mode": {
    "name": "ipython",
    "version": 3
   },
   "file_extension": ".py",
   "mimetype": "text/x-python",
   "name": "python",
   "nbconvert_exporter": "python",
   "pygments_lexer": "ipython3",
   "version": "3.7.1"
  }
 },
 "nbformat": 4,
 "nbformat_minor": 2
}
